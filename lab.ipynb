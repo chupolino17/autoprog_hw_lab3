{
 "cells": [
  {
   "cell_type": "markdown",
   "metadata": {
    "id": "RFrpDjMD2UVC"
   },
   "source": [
    "# Лабораторная работа по теме \"Metamorphic testing\""
   ]
  },
  {
   "cell_type": "markdown",
   "metadata": {
    "id": "JoSgSozQHykn"
   },
   "source": [
    "Ссылка на материалы занятия https://drive.google.com/drive/folders/1dbq1scqU22XPFCrVmz75gpRsb49QjtcM?usp=drive_link\n",
    "\n",
    "Литература\n",
    "\n",
    "1) Barr E.T., Harman M., McMinn P., Shahbaz M., Yoo S. The oracle problem in software testing: A survey. IEEE transactions on software engineering. 41(5). 2014. P. 507-525. https://ieeexplore.ieee.org/stamp/stamp.jsp?tp=&arnumber=6963470\n",
    "\n",
    "2) Tsong Yueh Chen, Fei-Ching Kuo, Huai Liu, Pak-Lok Poon, Dave Towey, T. H.\n",
    "Tse, and Zhi Quan Zhou. 2018. Metamorphic Testing: A Review of Challenges\n",
    "and Opportunities. 51, 1, Article 4 (Jan. 2018), 27 pages. https://doi.org/10.1145/3143561\n",
    "\n",
    "3) M. Srinivasan, M. P. Shahri, I. Kahanda and U. Kanewala, \"Quality Assurance of Bioinformatics Software: A Case Study of Testing a Biomedical Text Processing Tool Using Metamorphic Testing\", 2018 IEEE/ACM 3rd International Workshop on Metamorphic Testing (MET), Gothenburg, 2018, pp. 26-33. https://arxiv.org/pdf/1802.07354.pdf\n",
    "\n",
    "\n",
    "**Критерии оценки.**\n",
    "\n",
    "Условная оценка - 10 баллов за лабораторную. Для получения зачёта достаточно набрать 6.\n",
    "\n",
    "\n",
    "\n",
    "- Задание 1. (4 вопроса, 1 балл)\n",
    "- Задание 2. (9 баллов)"
   ]
  },
  {
   "cell_type": "markdown",
   "metadata": {
    "id": "cOOjuYki2gDK"
   },
   "source": [
    "## Задание 1. Теоретическая часть\n",
    "\n",
    "Ответьте на следующие вопросы (*1 балл*).\n",
    "1. Опишите суть проблемы тестового оракула.\n",
    "2. Приведите примеры задач, для которых обычное тестирование с оракулом не подходит.\n",
    "3. Перечислите методы, которые применяются для решения этой проблемы.\n",
    "4. Дайте определение тестового инварианта (metamorphic relation).\n",
    "\n",
    "\n",
    "\n"
   ]
  },
  {
   "cell_type": "markdown",
   "metadata": {
    "id": "IpV3qmFCI-mZ"
   },
   "source": [
    "Приведите свои ответы здесь:\n",
    "\n",
    "1. Тестовый оракул - частичная функция из множества последовательности тестовых действий во множество $\\{true, false\\}$. Не для всех задач тестовый оракул может быть вычислен за разумное время.\n",
    "\n",
    "\n",
    "2. Примеры задач:\n",
    "\n",
    "* Вычисление количества сложных комбинаторных объектов\n",
    "* Определение мутаций для больших геномов\n",
    "* Тестирование модели ML на неразмеченной выборке без возможности доразметки\n",
    "* Проверка веб-сервисов социальных сетейПроверка киберфизических систем (лифты)\n",
    "\n",
    "3. Методы для решения проблемы:\n",
    "\n",
    "* Сравнение версий\n",
    "* Неявные оракулы\n",
    "\n",
    "4. $R(x_1, x_2, x_3,... , x_n, f(x_1), f(x_2), …, f(x_n)) -> \\{true, false\\}$"
   ]
  },
  {
   "cell_type": "markdown",
   "metadata": {
    "id": "BvHnRXJCH6Fm"
   },
   "source": [
    "## Задание 2. Разработка тестовых инвариантов\n",
    "\n",
    "Дана модель для распознавания сущностей в тексте.\n",
    "- Придумайте и реализуйте 2 теста с тестовым оракулом (обычные тесты с правильными ответами) (*1 балл*)\n",
    "- Придумайте и реализуйте не менее 3 тестовых инвариантов (metamorphic relations) для её проверки - (*суммарно 6 баллов, теоретическое описание - по 1 баллу, реализация - по 1 баллу*)\n",
    "- Сравните полученные тесты. В чем преимущества каждого из методов? В чём недостатки? (*2 балла*)\n",
    "\n",
    "*Указание*. Можете воспользоваться идеями со слайда \"Bio-entity recognition\" или из статьи \"Quality Assurance of Bioinformatics Software: A Case Study of Testing a Biomedical Text Processing Tool Using Metamorphic Testing\" из списка литературы.\n",
    "\n",
    "**Правила оформления.**\n",
    "\n",
    "Для каждого инварианта необходимо описать\n",
    " - из каких предположений о модели он вытекает,\n",
    " - формальное описание (желательно с формулой),\n",
    " - запуск на 1-2 примерах тестовых данных.\n",
    " \n",
    "Теоретическую часть можно оформить в ячейке markdown."
   ]
  },
  {
   "cell_type": "markdown",
   "metadata": {
    "id": "Rmc0KqkI7g8c"
   },
   "source": [
    "### Тестируемая система\n",
    "\n",
    "Модель позволяет искать сущности в тексте. Ниже приведены примеры того, как можно с ней работать. "
   ]
  },
  {
   "cell_type": "code",
   "execution_count": 2,
   "metadata": {
    "id": "c2OQoJZ05L17"
   },
   "outputs": [],
   "source": [
    "#!pip3 install spacy==2.2.4"
   ]
  },
  {
   "cell_type": "code",
   "execution_count": 8,
   "metadata": {
    "scrolled": true
   },
   "outputs": [
    {
     "name": "stdout",
     "output_type": "stream",
     "text": [
      "Collecting en-core-web-sm==3.7.0\n",
      "  Using cached https://github.com/explosion/spacy-models/releases/download/en_core_web_sm-3.7.0/en_core_web_sm-3.7.0-py3-none-any.whl (12.8 MB)\n",
      "Requirement already satisfied: spacy<3.8.0,>=3.7.0 in /home/chupolino17/.local/lib/python3.9/site-packages (from en-core-web-sm==3.7.0) (3.7.1)\n",
      "Requirement already satisfied: weasel<0.4.0,>=0.1.0 in /home/chupolino17/.local/lib/python3.9/site-packages (from spacy<3.8.0,>=3.7.0->en-core-web-sm==3.7.0) (0.3.2)\n",
      "Requirement already satisfied: thinc<8.3.0,>=8.1.8 in /home/chupolino17/.local/lib/python3.9/site-packages (from spacy<3.8.0,>=3.7.0->en-core-web-sm==3.7.0) (8.2.1)\n",
      "Requirement already satisfied: cymem<2.1.0,>=2.0.2 in /home/chupolino17/.local/lib/python3.9/site-packages (from spacy<3.8.0,>=3.7.0->en-core-web-sm==3.7.0) (2.0.8)\n",
      "Requirement already satisfied: srsly<3.0.0,>=2.4.3 in /home/chupolino17/.local/lib/python3.9/site-packages (from spacy<3.8.0,>=3.7.0->en-core-web-sm==3.7.0) (2.4.8)\n",
      "Requirement already satisfied: typer<0.10.0,>=0.3.0 in /home/chupolino17/.local/lib/python3.9/site-packages (from spacy<3.8.0,>=3.7.0->en-core-web-sm==3.7.0) (0.9.0)\n",
      "Requirement already satisfied: spacy-legacy<3.1.0,>=3.0.11 in /home/chupolino17/.local/lib/python3.9/site-packages (from spacy<3.8.0,>=3.7.0->en-core-web-sm==3.7.0) (3.0.12)\n",
      "Requirement already satisfied: catalogue<2.1.0,>=2.0.6 in /home/chupolino17/.local/lib/python3.9/site-packages (from spacy<3.8.0,>=3.7.0->en-core-web-sm==3.7.0) (2.0.10)\n",
      "Requirement already satisfied: wasabi<1.2.0,>=0.9.1 in /home/chupolino17/.local/lib/python3.9/site-packages (from spacy<3.8.0,>=3.7.0->en-core-web-sm==3.7.0) (1.1.2)\n",
      "Requirement already satisfied: jinja2 in /usr/local/lib/python3.9/dist-packages (from spacy<3.8.0,>=3.7.0->en-core-web-sm==3.7.0) (3.0.0)\n",
      "Requirement already satisfied: packaging>=20.0 in /usr/local/lib/python3.9/dist-packages (from spacy<3.8.0,>=3.7.0->en-core-web-sm==3.7.0) (21.3)\n",
      "Requirement already satisfied: smart-open<7.0.0,>=5.2.1 in /home/chupolino17/.local/lib/python3.9/site-packages (from spacy<3.8.0,>=3.7.0->en-core-web-sm==3.7.0) (6.4.0)\n",
      "Requirement already satisfied: pathy>=0.10.0 in /home/chupolino17/.local/lib/python3.9/site-packages (from spacy<3.8.0,>=3.7.0->en-core-web-sm==3.7.0) (0.10.2)\n",
      "Requirement already satisfied: spacy-loggers<2.0.0,>=1.0.0 in /home/chupolino17/.local/lib/python3.9/site-packages (from spacy<3.8.0,>=3.7.0->en-core-web-sm==3.7.0) (1.0.5)\n",
      "Requirement already satisfied: numpy>=1.19.0 in /usr/local/lib/python3.9/dist-packages (from spacy<3.8.0,>=3.7.0->en-core-web-sm==3.7.0) (1.23.4)\n",
      "Requirement already satisfied: preshed<3.1.0,>=3.0.2 in /home/chupolino17/.local/lib/python3.9/site-packages (from spacy<3.8.0,>=3.7.0->en-core-web-sm==3.7.0) (3.0.9)\n",
      "Requirement already satisfied: requests<3.0.0,>=2.13.0 in /usr/lib/python3/dist-packages (from spacy<3.8.0,>=3.7.0->en-core-web-sm==3.7.0) (2.25.1)\n",
      "Requirement already satisfied: murmurhash<1.1.0,>=0.28.0 in /home/chupolino17/.local/lib/python3.9/site-packages (from spacy<3.8.0,>=3.7.0->en-core-web-sm==3.7.0) (1.0.10)\n",
      "Requirement already satisfied: langcodes<4.0.0,>=3.2.0 in /home/chupolino17/.local/lib/python3.9/site-packages (from spacy<3.8.0,>=3.7.0->en-core-web-sm==3.7.0) (3.3.0)\n",
      "Requirement already satisfied: pydantic!=1.8,!=1.8.1,<3.0.0,>=1.7.4 in /home/chupolino17/.local/lib/python3.9/site-packages (from spacy<3.8.0,>=3.7.0->en-core-web-sm==3.7.0) (2.4.2)\n",
      "Requirement already satisfied: setuptools in /usr/lib/python3/dist-packages (from spacy<3.8.0,>=3.7.0->en-core-web-sm==3.7.0) (52.0.0)\n",
      "Requirement already satisfied: tqdm<5.0.0,>=4.38.0 in /usr/local/lib/python3.9/dist-packages (from spacy<3.8.0,>=3.7.0->en-core-web-sm==3.7.0) (4.64.1)\n",
      "Requirement already satisfied: pyparsing!=3.0.5,>=2.0.2 in /usr/local/lib/python3.9/dist-packages (from packaging>=20.0->spacy<3.8.0,>=3.7.0->en-core-web-sm==3.7.0) (3.0.9)\n",
      "Requirement already satisfied: annotated-types>=0.4.0 in /home/chupolino17/.local/lib/python3.9/site-packages (from pydantic!=1.8,!=1.8.1,<3.0.0,>=1.7.4->spacy<3.8.0,>=3.7.0->en-core-web-sm==3.7.0) (0.6.0)\n",
      "Requirement already satisfied: typing-extensions>=4.6.1 in /home/chupolino17/.local/lib/python3.9/site-packages (from pydantic!=1.8,!=1.8.1,<3.0.0,>=1.7.4->spacy<3.8.0,>=3.7.0->en-core-web-sm==3.7.0) (4.8.0)\n",
      "Requirement already satisfied: pydantic-core==2.10.1 in /home/chupolino17/.local/lib/python3.9/site-packages (from pydantic!=1.8,!=1.8.1,<3.0.0,>=1.7.4->spacy<3.8.0,>=3.7.0->en-core-web-sm==3.7.0) (2.10.1)\n",
      "Requirement already satisfied: confection<1.0.0,>=0.0.1 in /home/chupolino17/.local/lib/python3.9/site-packages (from thinc<8.3.0,>=8.1.8->spacy<3.8.0,>=3.7.0->en-core-web-sm==3.7.0) (0.1.3)\n",
      "Requirement already satisfied: blis<0.8.0,>=0.7.8 in /home/chupolino17/.local/lib/python3.9/site-packages (from thinc<8.3.0,>=8.1.8->spacy<3.8.0,>=3.7.0->en-core-web-sm==3.7.0) (0.7.11)\n",
      "Requirement already satisfied: click<9.0.0,>=7.1.1 in /usr/local/lib/python3.9/dist-packages (from typer<0.10.0,>=0.3.0->spacy<3.8.0,>=3.7.0->en-core-web-sm==3.7.0) (8.1.3)\n",
      "Requirement already satisfied: cloudpathlib<0.16.0,>=0.7.0 in /home/chupolino17/.local/lib/python3.9/site-packages (from weasel<0.4.0,>=0.1.0->spacy<3.8.0,>=3.7.0->en-core-web-sm==3.7.0) (0.15.1)\n",
      "Requirement already satisfied: MarkupSafe>=2.0.0rc2 in /usr/local/lib/python3.9/dist-packages (from jinja2->spacy<3.8.0,>=3.7.0->en-core-web-sm==3.7.0) (2.1.1)\n",
      "\u001b[38;5;2m✔ Download and installation successful\u001b[0m\n",
      "You can now load the package via spacy.load('en_core_web_sm')\n"
     ]
    }
   ],
   "source": [
    "!python3 -m spacy download en_core_web_sm"
   ]
  },
  {
   "cell_type": "code",
   "execution_count": 9,
   "metadata": {
    "id": "7pJhnXchlEqW"
   },
   "outputs": [],
   "source": [
    "import spacy\n",
    "from spacy import displacy"
   ]
  },
  {
   "cell_type": "code",
   "execution_count": 10,
   "metadata": {
    "id": "nROSvozS7ngm"
   },
   "outputs": [],
   "source": [
    "# example of model usage\n",
    "def render(text):\n",
    "  \n",
    "    nlp = spacy.load('en_core_web_sm') # model\n",
    "  \n",
    "    doc = nlp(text) # data processing\n",
    "\n",
    "    # FYI all the properties\n",
    "    props = [p for p in dir(doc.ents[0]) if p[0] != '_']\n",
    "    print(props)\n",
    "\n",
    "    # custom processing of the answer\n",
    "\n",
    "    # get counts of entities\n",
    "    ent_labels = [e.label_ for e in doc.ents]\n",
    "    freq = dict()\n",
    "    for l in ent_labels:\n",
    "        freq[l] = ent_labels.count(l)\n",
    "    print(freq)\n",
    "\n",
    "    # get coordinates of entities\n",
    "    coordinates = [e.start_char for e in doc.ents]\n",
    "    print(coordinates)\n",
    "\n",
    "    # render the answer\n",
    "    displacy.render(doc, style='ent', jupyter=True)"
   ]
  },
  {
   "cell_type": "markdown",
   "metadata": {
    "id": "HBEamgaP4K9W"
   },
   "source": [
    "Модель позволяет искать сущности в тексте. В ячейке ниже приведены примеры того, как можно с ней работать. "
   ]
  },
  {
   "cell_type": "code",
   "execution_count": 11,
   "metadata": {
    "colab": {
     "base_uri": "https://localhost:8080/",
     "height": 194
    },
    "id": "_uAmLvzO7r8d",
    "outputId": "ad066ead-55d0-434d-8227-6a7d13cc4813"
   },
   "outputs": [
    {
     "name": "stdout",
     "output_type": "stream",
     "text": [
      "['as_doc', 'char_span', 'conjuncts', 'doc', 'end', 'end_char', 'ent_id', 'ent_id_', 'ents', 'get_extension', 'get_lca_matrix', 'has_extension', 'has_vector', 'id', 'id_', 'kb_id', 'kb_id_', 'label', 'label_', 'lefts', 'lemma_', 'n_lefts', 'n_rights', 'noun_chunks', 'orth_', 'remove_extension', 'rights', 'root', 'sent', 'sentiment', 'sents', 'set_extension', 'similarity', 'start', 'start_char', 'subtree', 'tensor', 'text', 'text_with_ws', 'to_array', 'vector', 'vector_norm', 'vocab']\n",
      "{'ORG': 5, 'PERSON': 1, 'LOC': 1}\n",
      "[4, 84, 92, 111, 124, 133, 167]\n"
     ]
    },
    {
     "data": {
      "text/html": [
       "<span class=\"tex2jax_ignore\"><div class=\"entities\" style=\"line-height: 2.5; direction: ltr\">But \n",
       "<mark class=\"entity\" style=\"background: #7aecec; padding: 0.45em 0.6em; margin: 0 0.25em; line-height: 1; border-radius: 0.35em;\">\n",
       "    Google\n",
       "    <span style=\"font-size: 0.8em; font-weight: bold; line-height: 1; border-radius: 0.35em; vertical-align: middle; margin-left: 0.5rem\">ORG</span>\n",
       "</mark>\n",
       " is starting from behind. The company made a late push<br>into hardware, and \n",
       "<mark class=\"entity\" style=\"background: #7aecec; padding: 0.45em 0.6em; margin: 0 0.25em; line-height: 1; border-radius: 0.35em;\">\n",
       "    Apple\n",
       "    <span style=\"font-size: 0.8em; font-weight: bold; line-height: 1; border-radius: 0.35em; vertical-align: middle; margin-left: 0.5rem\">ORG</span>\n",
       "</mark>\n",
       "’s \n",
       "<mark class=\"entity\" style=\"background: #aa9cfc; padding: 0.45em 0.6em; margin: 0 0.25em; line-height: 1; border-radius: 0.35em;\">\n",
       "    Siri\n",
       "    <span style=\"font-size: 0.8em; font-weight: bold; line-height: 1; border-radius: 0.35em; vertical-align: middle; margin-left: 0.5rem\">PERSON</span>\n",
       "</mark>\n",
       ", available on \n",
       "<mark class=\"entity\" style=\"background: #7aecec; padding: 0.45em 0.6em; margin: 0 0.25em; line-height: 1; border-radius: 0.35em;\">\n",
       "    iPhones\n",
       "    <span style=\"font-size: 0.8em; font-weight: bold; line-height: 1; border-radius: 0.35em; vertical-align: middle; margin-left: 0.5rem\">ORG</span>\n",
       "</mark>\n",
       ", and \n",
       "<mark class=\"entity\" style=\"background: #7aecec; padding: 0.45em 0.6em; margin: 0 0.25em; line-height: 1; border-radius: 0.35em;\">\n",
       "    Amazon\n",
       "    <span style=\"font-size: 0.8em; font-weight: bold; line-height: 1; border-radius: 0.35em; vertical-align: middle; margin-left: 0.5rem\">ORG</span>\n",
       "</mark>\n",
       "’s \n",
       "<mark class=\"entity\" style=\"background: #7aecec; padding: 0.45em 0.6em; margin: 0 0.25em; line-height: 1; border-radius: 0.35em;\">\n",
       "    Alexa\n",
       "    <span style=\"font-size: 0.8em; font-weight: bold; line-height: 1; border-radius: 0.35em; vertical-align: middle; margin-left: 0.5rem\">ORG</span>\n",
       "</mark>\n",
       "<br>software, which runs on its \n",
       "<mark class=\"entity\" style=\"background: #ff9561; padding: 0.45em 0.6em; margin: 0 0.25em; line-height: 1; border-radius: 0.35em;\">\n",
       "    Echo\n",
       "    <span style=\"font-size: 0.8em; font-weight: bold; line-height: 1; border-radius: 0.35em; vertical-align: middle; margin-left: 0.5rem\">LOC</span>\n",
       "</mark>\n",
       " and Dot devices, have clear leads in<br>consumer adoption.</div></span>"
      ],
      "text/plain": [
       "<IPython.core.display.HTML object>"
      ]
     },
     "metadata": {},
     "output_type": "display_data"
    }
   ],
   "source": [
    "text = \"\"\"But Google is starting from behind. The company made a late push\n",
    "into hardware, and Apple’s Siri, available on iPhones, and Amazon’s Alexa\n",
    "software, which runs on its Echo and Dot devices, have clear leads in\n",
    "consumer adoption.\"\"\"\n",
    "\n",
    "render(text)"
   ]
  },
  {
   "cell_type": "markdown",
   "metadata": {
    "id": "4hts770wMN81"
   },
   "source": [
    "\n",
    "### Пример оформления инварианта\n",
    "\n",
    "Рассмотрим задачу поиска подстроки в строке. \n",
    "\n",
    "Предполагаем, что алгоритм должен находить все вхождения подстроки.\n",
    "\n",
    "> **MR1.** Если в строке S найдёна некоторая подстрока s ровно k раз, то в строке SS она будет найдена не менее 2k раз (возможны нахождения на месте склейки строк).\n",
    "\n",
    "Формально. Пусть S - строка, s - её подстрока, f(S,s) - определённое программой число вхождений s в S. Тогда f(SS,s) >= 2*f(S,s).\n"
   ]
  },
  {
   "cell_type": "code",
   "execution_count": 12,
   "metadata": {
    "id": "l3HLSNRb2fap"
   },
   "outputs": [],
   "source": [
    "import re\n",
    "import unittest\n",
    "\n",
    "# function for testing\n",
    "def func_to_test(substr, string):\n",
    "    return re.finditer(pattern=substr, string=string)\n",
    "\n",
    "\n",
    "class TestStringMethods(unittest.TestCase):\n",
    "\n",
    "    def test_with_oracle1(self):\n",
    "        # input data\n",
    "        big_string = 'abacaba'\n",
    "        substr = 'aba'\n",
    "\n",
    "        # correct answer\n",
    "        right_answer = [0, 4]\n",
    "\n",
    "        indices = func_to_test(substr, big_string)\n",
    "        answer = [index.start() for index in indices]\n",
    "        \n",
    "        self.assertTrue(answer == right_answer)\n",
    "\n",
    "    def test_metamorphic1(self):\n",
    "        # input data\n",
    "        big_string1 = 'abacab'\n",
    "        big_string2 = big_string1 + big_string1\n",
    "        substr = 'aba'\n",
    "\n",
    "        # first answer\n",
    "        indices = func_to_test(substr, big_string1)\n",
    "        indices1 = [index.start() for index in indices]\n",
    "\n",
    "        # second answer\n",
    "        indices = func_to_test(substr, big_string2)\n",
    "        indices2 = [index.start() for index in indices]\n",
    "\n",
    "        # metamorphic relation\n",
    "        self.assertTrue(2*len(indices1) <= len(indices2))"
   ]
  },
  {
   "cell_type": "markdown",
   "metadata": {
    "id": "YIWP_VCIJgoo"
   },
   "source": [
    "Ниже мы запускаем все объявленные тестовые случаи"
   ]
  },
  {
   "cell_type": "code",
   "execution_count": 13,
   "metadata": {
    "colab": {
     "base_uri": "https://localhost:8080/"
    },
    "id": "hNOpslG87uzq",
    "outputId": "0a9b8830-859e-474e-c8e4-d90d32fc53d1"
   },
   "outputs": [
    {
     "name": "stderr",
     "output_type": "stream",
     "text": [
      "..\n",
      "----------------------------------------------------------------------\n",
      "Ran 2 tests in 0.005s\n",
      "\n",
      "OK\n"
     ]
    },
    {
     "data": {
      "text/plain": [
       "<unittest.main.TestProgram at 0x7f46dc44b520>"
      ]
     },
     "execution_count": 13,
     "metadata": {},
     "output_type": "execute_result"
    }
   ],
   "source": [
    "unittest.main(argv=['first-arg-is-ignored'], exit=False)"
   ]
  },
  {
   "cell_type": "markdown",
   "metadata": {
    "id": "u1gJjW4GIYhe"
   },
   "source": [
    "### Реализуйте собственные тестовые инварианты ниже"
   ]
  },
  {
   "cell_type": "code",
   "execution_count": 81,
   "metadata": {},
   "outputs": [],
   "source": [
    "# input data\n",
    "text = \"\"\"Apple Inc. is an American multinational technology company headquartered in Cupertino, \n",
    "California. As of March 2023, Apple is the world's biggest company by market capitalization,\n",
    "and with US$394.3 billion the largest technology company by 2022 revenue. \n",
    "As of June 2022, Apple is the fourth-largest personal computer vendor by unit sales; \n",
    "the largest manufacturing company by revenue; and the second-largest mobile phone \n",
    "manufacturer in the world. It is considered one of the Big Five American information \n",
    "technology companies, alongside Alphabet (parent company of Google), Amazon, Meta Platforms, and Microsoft. \n",
    "Apple was founded as Apple Computer Company on April 1, 1976, by Steve Wozniak, Steve Jobs (1955–2011) \n",
    "and Ronald Wayne to develop and sell Wozniak's Apple I personal computer. It was incorporated by \n",
    "Jobs and Wozniak as Apple Computer, Inc. in 1977. The company's second computer, the Apple II, \n",
    "became a best seller and one of the first mass-produced microcomputers. Apple went public in \n",
    "1980 to instant financial success. The company developed computers featuring innovative \n",
    "graphical user interfaces, including the 1984 original Macintosh, announced that year in a \n",
    "critically acclaimed advertisement called \"1984\". By 1985, the high cost of its products, \n",
    "and power struggles between executives, caused problems. Wozniak stepped back from Apple and \n",
    "pursued other ventures, while Jobs resigned and founded NeXT, taking some Apple employees with him.\"\"\""
   ]
  },
  {
   "cell_type": "code",
   "execution_count": 90,
   "metadata": {},
   "outputs": [
    {
     "name": "stdout",
     "output_type": "stream",
     "text": [
      "['as_doc', 'char_span', 'conjuncts', 'doc', 'end', 'end_char', 'ent_id', 'ent_id_', 'ents', 'get_extension', 'get_lca_matrix', 'has_extension', 'has_vector', 'id', 'id_', 'kb_id', 'kb_id_', 'label', 'label_', 'lefts', 'lemma_', 'n_lefts', 'n_rights', 'noun_chunks', 'orth_', 'remove_extension', 'rights', 'root', 'sent', 'sentiment', 'sents', 'set_extension', 'similarity', 'start', 'start_char', 'subtree', 'tensor', 'text', 'text_with_ws', 'to_array', 'vector', 'vector_norm', 'vocab']\n",
      "{'ORG': 17, 'NORP': 2, 'GPE': 3, 'DATE': 9, 'MONEY': 1, 'ORDINAL': 4, 'CARDINAL': 2, 'PERSON': 7, 'PRODUCT': 1, 'WORK_OF_ART': 1}\n",
      "[0, 17, 76, 88, 106, 118, 190, 241, 262, 273, 286, 396, 484, 489, 543, 571, 580, 588, 608, 620, 641, 667, 685, 700, 728, 761, 771, 822, 831, 842, 866, 886, 903, 943, 954, 990, 1012, 1142, 1156, 1177, 1236, 1246, 1341, 1367, 1408, 1434, 1452]\n"
     ]
    },
    {
     "data": {
      "text/html": [
       "<span class=\"tex2jax_ignore\"><div class=\"entities\" style=\"line-height: 2.5; direction: ltr\">\n",
       "<mark class=\"entity\" style=\"background: #7aecec; padding: 0.45em 0.6em; margin: 0 0.25em; line-height: 1; border-radius: 0.35em;\">\n",
       "    Apple Inc.\n",
       "    <span style=\"font-size: 0.8em; font-weight: bold; line-height: 1; border-radius: 0.35em; vertical-align: middle; margin-left: 0.5rem\">ORG</span>\n",
       "</mark>\n",
       " is an \n",
       "<mark class=\"entity\" style=\"background: #c887fb; padding: 0.45em 0.6em; margin: 0 0.25em; line-height: 1; border-radius: 0.35em;\">\n",
       "    American\n",
       "    <span style=\"font-size: 0.8em; font-weight: bold; line-height: 1; border-radius: 0.35em; vertical-align: middle; margin-left: 0.5rem\">NORP</span>\n",
       "</mark>\n",
       " multinational technology company headquartered in \n",
       "<mark class=\"entity\" style=\"background: #feca74; padding: 0.45em 0.6em; margin: 0 0.25em; line-height: 1; border-radius: 0.35em;\">\n",
       "    Cupertino\n",
       "    <span style=\"font-size: 0.8em; font-weight: bold; line-height: 1; border-radius: 0.35em; vertical-align: middle; margin-left: 0.5rem\">GPE</span>\n",
       "</mark>\n",
       ", <br>\n",
       "<mark class=\"entity\" style=\"background: #feca74; padding: 0.45em 0.6em; margin: 0 0.25em; line-height: 1; border-radius: 0.35em;\">\n",
       "    California\n",
       "    <span style=\"font-size: 0.8em; font-weight: bold; line-height: 1; border-radius: 0.35em; vertical-align: middle; margin-left: 0.5rem\">GPE</span>\n",
       "</mark>\n",
       ". As of \n",
       "<mark class=\"entity\" style=\"background: #bfe1d9; padding: 0.45em 0.6em; margin: 0 0.25em; line-height: 1; border-radius: 0.35em;\">\n",
       "    March 2023\n",
       "    <span style=\"font-size: 0.8em; font-weight: bold; line-height: 1; border-radius: 0.35em; vertical-align: middle; margin-left: 0.5rem\">DATE</span>\n",
       "</mark>\n",
       ", \n",
       "<mark class=\"entity\" style=\"background: #7aecec; padding: 0.45em 0.6em; margin: 0 0.25em; line-height: 1; border-radius: 0.35em;\">\n",
       "    Apple\n",
       "    <span style=\"font-size: 0.8em; font-weight: bold; line-height: 1; border-radius: 0.35em; vertical-align: middle; margin-left: 0.5rem\">ORG</span>\n",
       "</mark>\n",
       " is the world's biggest company by market capitalization,<br>and with \n",
       "<mark class=\"entity\" style=\"background: #e4e7d2; padding: 0.45em 0.6em; margin: 0 0.25em; line-height: 1; border-radius: 0.35em;\">\n",
       "    US$394.3 billion\n",
       "    <span style=\"font-size: 0.8em; font-weight: bold; line-height: 1; border-radius: 0.35em; vertical-align: middle; margin-left: 0.5rem\">MONEY</span>\n",
       "</mark>\n",
       " the largest technology company by \n",
       "<mark class=\"entity\" style=\"background: #bfe1d9; padding: 0.45em 0.6em; margin: 0 0.25em; line-height: 1; border-radius: 0.35em;\">\n",
       "    2022\n",
       "    <span style=\"font-size: 0.8em; font-weight: bold; line-height: 1; border-radius: 0.35em; vertical-align: middle; margin-left: 0.5rem\">DATE</span>\n",
       "</mark>\n",
       " revenue. <br>As of \n",
       "<mark class=\"entity\" style=\"background: #bfe1d9; padding: 0.45em 0.6em; margin: 0 0.25em; line-height: 1; border-radius: 0.35em;\">\n",
       "    June 2022\n",
       "    <span style=\"font-size: 0.8em; font-weight: bold; line-height: 1; border-radius: 0.35em; vertical-align: middle; margin-left: 0.5rem\">DATE</span>\n",
       "</mark>\n",
       ", \n",
       "<mark class=\"entity\" style=\"background: #7aecec; padding: 0.45em 0.6em; margin: 0 0.25em; line-height: 1; border-radius: 0.35em;\">\n",
       "    Apple\n",
       "    <span style=\"font-size: 0.8em; font-weight: bold; line-height: 1; border-radius: 0.35em; vertical-align: middle; margin-left: 0.5rem\">ORG</span>\n",
       "</mark>\n",
       " is the \n",
       "<mark class=\"entity\" style=\"background: #e4e7d2; padding: 0.45em 0.6em; margin: 0 0.25em; line-height: 1; border-radius: 0.35em;\">\n",
       "    fourth\n",
       "    <span style=\"font-size: 0.8em; font-weight: bold; line-height: 1; border-radius: 0.35em; vertical-align: middle; margin-left: 0.5rem\">ORDINAL</span>\n",
       "</mark>\n",
       "-largest personal computer vendor by unit sales; <br>the largest manufacturing company by revenue; and the \n",
       "<mark class=\"entity\" style=\"background: #e4e7d2; padding: 0.45em 0.6em; margin: 0 0.25em; line-height: 1; border-radius: 0.35em;\">\n",
       "    second\n",
       "    <span style=\"font-size: 0.8em; font-weight: bold; line-height: 1; border-radius: 0.35em; vertical-align: middle; margin-left: 0.5rem\">ORDINAL</span>\n",
       "</mark>\n",
       "-largest mobile phone <br>manufacturer in the world. It is considered one of the Big \n",
       "<mark class=\"entity\" style=\"background: #e4e7d2; padding: 0.45em 0.6em; margin: 0 0.25em; line-height: 1; border-radius: 0.35em;\">\n",
       "    Five\n",
       "    <span style=\"font-size: 0.8em; font-weight: bold; line-height: 1; border-radius: 0.35em; vertical-align: middle; margin-left: 0.5rem\">CARDINAL</span>\n",
       "</mark>\n",
       " \n",
       "<mark class=\"entity\" style=\"background: #c887fb; padding: 0.45em 0.6em; margin: 0 0.25em; line-height: 1; border-radius: 0.35em;\">\n",
       "    American\n",
       "    <span style=\"font-size: 0.8em; font-weight: bold; line-height: 1; border-radius: 0.35em; vertical-align: middle; margin-left: 0.5rem\">NORP</span>\n",
       "</mark>\n",
       " information <br>technology companies, alongside \n",
       "<mark class=\"entity\" style=\"background: #feca74; padding: 0.45em 0.6em; margin: 0 0.25em; line-height: 1; border-radius: 0.35em;\">\n",
       "    Alphabet\n",
       "    <span style=\"font-size: 0.8em; font-weight: bold; line-height: 1; border-radius: 0.35em; vertical-align: middle; margin-left: 0.5rem\">GPE</span>\n",
       "</mark>\n",
       " (parent company of \n",
       "<mark class=\"entity\" style=\"background: #7aecec; padding: 0.45em 0.6em; margin: 0 0.25em; line-height: 1; border-radius: 0.35em;\">\n",
       "    Google\n",
       "    <span style=\"font-size: 0.8em; font-weight: bold; line-height: 1; border-radius: 0.35em; vertical-align: middle; margin-left: 0.5rem\">ORG</span>\n",
       "</mark>\n",
       "), \n",
       "<mark class=\"entity\" style=\"background: #7aecec; padding: 0.45em 0.6em; margin: 0 0.25em; line-height: 1; border-radius: 0.35em;\">\n",
       "    Amazon\n",
       "    <span style=\"font-size: 0.8em; font-weight: bold; line-height: 1; border-radius: 0.35em; vertical-align: middle; margin-left: 0.5rem\">ORG</span>\n",
       "</mark>\n",
       ", \n",
       "<mark class=\"entity\" style=\"background: #7aecec; padding: 0.45em 0.6em; margin: 0 0.25em; line-height: 1; border-radius: 0.35em;\">\n",
       "    Meta Platforms\n",
       "    <span style=\"font-size: 0.8em; font-weight: bold; line-height: 1; border-radius: 0.35em; vertical-align: middle; margin-left: 0.5rem\">ORG</span>\n",
       "</mark>\n",
       ", and \n",
       "<mark class=\"entity\" style=\"background: #7aecec; padding: 0.45em 0.6em; margin: 0 0.25em; line-height: 1; border-radius: 0.35em;\">\n",
       "    Microsoft\n",
       "    <span style=\"font-size: 0.8em; font-weight: bold; line-height: 1; border-radius: 0.35em; vertical-align: middle; margin-left: 0.5rem\">ORG</span>\n",
       "</mark>\n",
       ". <br>\n",
       "<mark class=\"entity\" style=\"background: #7aecec; padding: 0.45em 0.6em; margin: 0 0.25em; line-height: 1; border-radius: 0.35em;\">\n",
       "    Apple\n",
       "    <span style=\"font-size: 0.8em; font-weight: bold; line-height: 1; border-radius: 0.35em; vertical-align: middle; margin-left: 0.5rem\">ORG</span>\n",
       "</mark>\n",
       " was founded as \n",
       "<mark class=\"entity\" style=\"background: #7aecec; padding: 0.45em 0.6em; margin: 0 0.25em; line-height: 1; border-radius: 0.35em;\">\n",
       "    Apple Computer Company\n",
       "    <span style=\"font-size: 0.8em; font-weight: bold; line-height: 1; border-radius: 0.35em; vertical-align: middle; margin-left: 0.5rem\">ORG</span>\n",
       "</mark>\n",
       " on \n",
       "<mark class=\"entity\" style=\"background: #bfe1d9; padding: 0.45em 0.6em; margin: 0 0.25em; line-height: 1; border-radius: 0.35em;\">\n",
       "    April 1, 1976\n",
       "    <span style=\"font-size: 0.8em; font-weight: bold; line-height: 1; border-radius: 0.35em; vertical-align: middle; margin-left: 0.5rem\">DATE</span>\n",
       "</mark>\n",
       ", by \n",
       "<mark class=\"entity\" style=\"background: #aa9cfc; padding: 0.45em 0.6em; margin: 0 0.25em; line-height: 1; border-radius: 0.35em;\">\n",
       "    Steve Wozniak\n",
       "    <span style=\"font-size: 0.8em; font-weight: bold; line-height: 1; border-radius: 0.35em; vertical-align: middle; margin-left: 0.5rem\">PERSON</span>\n",
       "</mark>\n",
       ", \n",
       "<mark class=\"entity\" style=\"background: #aa9cfc; padding: 0.45em 0.6em; margin: 0 0.25em; line-height: 1; border-radius: 0.35em;\">\n",
       "    Steve Jobs\n",
       "    <span style=\"font-size: 0.8em; font-weight: bold; line-height: 1; border-radius: 0.35em; vertical-align: middle; margin-left: 0.5rem\">PERSON</span>\n",
       "</mark>\n",
       " (1955–2011) <br>and \n",
       "<mark class=\"entity\" style=\"background: #aa9cfc; padding: 0.45em 0.6em; margin: 0 0.25em; line-height: 1; border-radius: 0.35em;\">\n",
       "    Ronald Wayne\n",
       "    <span style=\"font-size: 0.8em; font-weight: bold; line-height: 1; border-radius: 0.35em; vertical-align: middle; margin-left: 0.5rem\">PERSON</span>\n",
       "</mark>\n",
       " to develop and sell \n",
       "<mark class=\"entity\" style=\"background: #7aecec; padding: 0.45em 0.6em; margin: 0 0.25em; line-height: 1; border-radius: 0.35em;\">\n",
       "    Wozniak\n",
       "    <span style=\"font-size: 0.8em; font-weight: bold; line-height: 1; border-radius: 0.35em; vertical-align: middle; margin-left: 0.5rem\">ORG</span>\n",
       "</mark>\n",
       "'s \n",
       "<mark class=\"entity\" style=\"background: #7aecec; padding: 0.45em 0.6em; margin: 0 0.25em; line-height: 1; border-radius: 0.35em;\">\n",
       "    Apple\n",
       "    <span style=\"font-size: 0.8em; font-weight: bold; line-height: 1; border-radius: 0.35em; vertical-align: middle; margin-left: 0.5rem\">ORG</span>\n",
       "</mark>\n",
       " I personal computer. It was incorporated by <br>\n",
       "<mark class=\"entity\" style=\"background: #aa9cfc; padding: 0.45em 0.6em; margin: 0 0.25em; line-height: 1; border-radius: 0.35em;\">\n",
       "    Jobs\n",
       "    <span style=\"font-size: 0.8em; font-weight: bold; line-height: 1; border-radius: 0.35em; vertical-align: middle; margin-left: 0.5rem\">PERSON</span>\n",
       "</mark>\n",
       " and \n",
       "<mark class=\"entity\" style=\"background: #aa9cfc; padding: 0.45em 0.6em; margin: 0 0.25em; line-height: 1; border-radius: 0.35em;\">\n",
       "    Wozniak\n",
       "    <span style=\"font-size: 0.8em; font-weight: bold; line-height: 1; border-radius: 0.35em; vertical-align: middle; margin-left: 0.5rem\">PERSON</span>\n",
       "</mark>\n",
       " as \n",
       "<mark class=\"entity\" style=\"background: #7aecec; padding: 0.45em 0.6em; margin: 0 0.25em; line-height: 1; border-radius: 0.35em;\">\n",
       "    Apple Computer, Inc.\n",
       "    <span style=\"font-size: 0.8em; font-weight: bold; line-height: 1; border-radius: 0.35em; vertical-align: middle; margin-left: 0.5rem\">ORG</span>\n",
       "</mark>\n",
       " in \n",
       "<mark class=\"entity\" style=\"background: #bfe1d9; padding: 0.45em 0.6em; margin: 0 0.25em; line-height: 1; border-radius: 0.35em;\">\n",
       "    1977\n",
       "    <span style=\"font-size: 0.8em; font-weight: bold; line-height: 1; border-radius: 0.35em; vertical-align: middle; margin-left: 0.5rem\">DATE</span>\n",
       "</mark>\n",
       ". The company's \n",
       "<mark class=\"entity\" style=\"background: #e4e7d2; padding: 0.45em 0.6em; margin: 0 0.25em; line-height: 1; border-radius: 0.35em;\">\n",
       "    second\n",
       "    <span style=\"font-size: 0.8em; font-weight: bold; line-height: 1; border-radius: 0.35em; vertical-align: middle; margin-left: 0.5rem\">ORDINAL</span>\n",
       "</mark>\n",
       " computer, \n",
       "<mark class=\"entity\" style=\"background: #bfeeb7; padding: 0.45em 0.6em; margin: 0 0.25em; line-height: 1; border-radius: 0.35em;\">\n",
       "    the Apple II\n",
       "    <span style=\"font-size: 0.8em; font-weight: bold; line-height: 1; border-radius: 0.35em; vertical-align: middle; margin-left: 0.5rem\">PRODUCT</span>\n",
       "</mark>\n",
       ", <br>became a best seller and \n",
       "<mark class=\"entity\" style=\"background: #e4e7d2; padding: 0.45em 0.6em; margin: 0 0.25em; line-height: 1; border-radius: 0.35em;\">\n",
       "    one\n",
       "    <span style=\"font-size: 0.8em; font-weight: bold; line-height: 1; border-radius: 0.35em; vertical-align: middle; margin-left: 0.5rem\">CARDINAL</span>\n",
       "</mark>\n",
       " of the \n",
       "<mark class=\"entity\" style=\"background: #e4e7d2; padding: 0.45em 0.6em; margin: 0 0.25em; line-height: 1; border-radius: 0.35em;\">\n",
       "    first\n",
       "    <span style=\"font-size: 0.8em; font-weight: bold; line-height: 1; border-radius: 0.35em; vertical-align: middle; margin-left: 0.5rem\">ORDINAL</span>\n",
       "</mark>\n",
       " mass-produced microcomputers. \n",
       "<mark class=\"entity\" style=\"background: #7aecec; padding: 0.45em 0.6em; margin: 0 0.25em; line-height: 1; border-radius: 0.35em;\">\n",
       "    Apple\n",
       "    <span style=\"font-size: 0.8em; font-weight: bold; line-height: 1; border-radius: 0.35em; vertical-align: middle; margin-left: 0.5rem\">ORG</span>\n",
       "</mark>\n",
       " went public in <br>\n",
       "<mark class=\"entity\" style=\"background: #bfe1d9; padding: 0.45em 0.6em; margin: 0 0.25em; line-height: 1; border-radius: 0.35em;\">\n",
       "    1980\n",
       "    <span style=\"font-size: 0.8em; font-weight: bold; line-height: 1; border-radius: 0.35em; vertical-align: middle; margin-left: 0.5rem\">DATE</span>\n",
       "</mark>\n",
       " to instant financial success. The company developed computers featuring innovative <br>graphical user interfaces, including the \n",
       "<mark class=\"entity\" style=\"background: #bfe1d9; padding: 0.45em 0.6em; margin: 0 0.25em; line-height: 1; border-radius: 0.35em;\">\n",
       "    1984\n",
       "    <span style=\"font-size: 0.8em; font-weight: bold; line-height: 1; border-radius: 0.35em; vertical-align: middle; margin-left: 0.5rem\">DATE</span>\n",
       "</mark>\n",
       " original \n",
       "<mark class=\"entity\" style=\"background: #7aecec; padding: 0.45em 0.6em; margin: 0 0.25em; line-height: 1; border-radius: 0.35em;\">\n",
       "    Macintosh\n",
       "    <span style=\"font-size: 0.8em; font-weight: bold; line-height: 1; border-radius: 0.35em; vertical-align: middle; margin-left: 0.5rem\">ORG</span>\n",
       "</mark>\n",
       ", announced \n",
       "<mark class=\"entity\" style=\"background: #bfe1d9; padding: 0.45em 0.6em; margin: 0 0.25em; line-height: 1; border-radius: 0.35em;\">\n",
       "    that year\n",
       "    <span style=\"font-size: 0.8em; font-weight: bold; line-height: 1; border-radius: 0.35em; vertical-align: middle; margin-left: 0.5rem\">DATE</span>\n",
       "</mark>\n",
       " in a <br>critically acclaimed advertisement called &quot;\n",
       "<mark class=\"entity\" style=\"background: #f0d0ff; padding: 0.45em 0.6em; margin: 0 0.25em; line-height: 1; border-radius: 0.35em;\">\n",
       "    1984\n",
       "    <span style=\"font-size: 0.8em; font-weight: bold; line-height: 1; border-radius: 0.35em; vertical-align: middle; margin-left: 0.5rem\">WORK_OF_ART</span>\n",
       "</mark>\n",
       "&quot;. By \n",
       "<mark class=\"entity\" style=\"background: #bfe1d9; padding: 0.45em 0.6em; margin: 0 0.25em; line-height: 1; border-radius: 0.35em;\">\n",
       "    1985\n",
       "    <span style=\"font-size: 0.8em; font-weight: bold; line-height: 1; border-radius: 0.35em; vertical-align: middle; margin-left: 0.5rem\">DATE</span>\n",
       "</mark>\n",
       ", the high cost of its products, <br>and power struggles between executives, caused problems. \n",
       "<mark class=\"entity\" style=\"background: #aa9cfc; padding: 0.45em 0.6em; margin: 0 0.25em; line-height: 1; border-radius: 0.35em;\">\n",
       "    Wozniak\n",
       "    <span style=\"font-size: 0.8em; font-weight: bold; line-height: 1; border-radius: 0.35em; vertical-align: middle; margin-left: 0.5rem\">PERSON</span>\n",
       "</mark>\n",
       " stepped back from \n",
       "<mark class=\"entity\" style=\"background: #7aecec; padding: 0.45em 0.6em; margin: 0 0.25em; line-height: 1; border-radius: 0.35em;\">\n",
       "    Apple\n",
       "    <span style=\"font-size: 0.8em; font-weight: bold; line-height: 1; border-radius: 0.35em; vertical-align: middle; margin-left: 0.5rem\">ORG</span>\n",
       "</mark>\n",
       " and <br>pursued other ventures, while \n",
       "<mark class=\"entity\" style=\"background: #aa9cfc; padding: 0.45em 0.6em; margin: 0 0.25em; line-height: 1; border-radius: 0.35em;\">\n",
       "    Jobs\n",
       "    <span style=\"font-size: 0.8em; font-weight: bold; line-height: 1; border-radius: 0.35em; vertical-align: middle; margin-left: 0.5rem\">PERSON</span>\n",
       "</mark>\n",
       " resigned and founded \n",
       "<mark class=\"entity\" style=\"background: #7aecec; padding: 0.45em 0.6em; margin: 0 0.25em; line-height: 1; border-radius: 0.35em;\">\n",
       "    NeXT\n",
       "    <span style=\"font-size: 0.8em; font-weight: bold; line-height: 1; border-radius: 0.35em; vertical-align: middle; margin-left: 0.5rem\">ORG</span>\n",
       "</mark>\n",
       ", taking some \n",
       "<mark class=\"entity\" style=\"background: #7aecec; padding: 0.45em 0.6em; margin: 0 0.25em; line-height: 1; border-radius: 0.35em;\">\n",
       "    Apple\n",
       "    <span style=\"font-size: 0.8em; font-weight: bold; line-height: 1; border-radius: 0.35em; vertical-align: middle; margin-left: 0.5rem\">ORG</span>\n",
       "</mark>\n",
       " employees with him.</div></span>"
      ],
      "text/plain": [
       "<IPython.core.display.HTML object>"
      ]
     },
     "metadata": {},
     "output_type": "display_data"
    }
   ],
   "source": [
    "render(text)"
   ]
  },
  {
   "cell_type": "markdown",
   "metadata": {},
   "source": [
    "### Инвариант 1"
   ]
  },
  {
   "cell_type": "markdown",
   "metadata": {},
   "source": [
    "Если в строке $S$ найдёно ровно $k$ сущностей, то в строке $S S$ будет найдено ровно $2k$ сущностей. \n",
    "Формально. Пусть $S$ - строка, $f(S)$ - количество сущностей в $S$. Тогда $f(S  S) = 2*f(S)$."
   ]
  },
  {
   "cell_type": "code",
   "execution_count": 84,
   "metadata": {
    "colab": {
     "base_uri": "https://localhost:8080/"
    },
    "id": "f0hWY1bayPn5",
    "outputId": "c8f7dce1-073f-4ab6-8e0f-0d94ead6167a"
   },
   "outputs": [],
   "source": [
    "import unittest\n",
    "import timeout_decorator\n",
    "\n",
    "# function for testing\n",
    "def func_to_test(text):\n",
    "    nlp = spacy.load('en_core_web_sm') # model\n",
    "  \n",
    "    doc = nlp(text) # data processing\n",
    "    return len(doc.ents)\n",
    "\n",
    "\n",
    "class TestStringMethods(unittest.TestCase):\n",
    "  \n",
    "    @timeout_decorator.timeout(10)\n",
    "    def test_with_oracle(self):\n",
    "\n",
    "        answer = func_to_test(text)\n",
    "        self.assertEqual(answer, 47)\n",
    "\n",
    "    @timeout_decorator.timeout(10)\n",
    "    def test_metamorphic(self):\n",
    "     \n",
    "        new_text = text + ' ' + text\n",
    "        count1 = func_to_test(text)\n",
    "        count2 = func_to_test(new_text)\n",
    "        self.assertEqual(2 * count1, count2)"
   ]
  },
  {
   "cell_type": "code",
   "execution_count": 85,
   "metadata": {
    "id": "AU_uYHTn0FKI"
   },
   "outputs": [
    {
     "name": "stderr",
     "output_type": "stream",
     "text": [
      "test_metamorphic (__main__.TestStringMethods) ... ok\n",
      "test_with_oracle (__main__.TestStringMethods) ... ok\n",
      "\n",
      "----------------------------------------------------------------------\n",
      "Ran 2 tests in 2.323s\n",
      "\n",
      "OK\n"
     ]
    }
   ],
   "source": [
    "suite_list = []\n",
    "suite_list.append(unittest.TestLoader().loadTestsFromTestCase(TestStringMethods))\n",
    "runner = unittest.TextTestRunner(verbosity=2).run(unittest.TestSuite(suite_list))"
   ]
  },
  {
   "cell_type": "markdown",
   "metadata": {},
   "source": [
    "### Инвариант 2"
   ]
  },
  {
   "cell_type": "markdown",
   "metadata": {},
   "source": [
    "При перестановке предложений в строке $S$ количество различных сущностей не изменится.\n",
    "Пусть $S$ строка, $S_1$ - строка полученная из $S$ перестановкой предложений и $f(S)$ - словарь различных сущностей в строке $S$. Тогда $f(S) = f(S_1).$"
   ]
  },
  {
   "cell_type": "code",
   "execution_count": 95,
   "metadata": {},
   "outputs": [],
   "source": [
    "import unittest\n",
    "\n",
    "# function for testing\n",
    "def func_to_test(text):\n",
    "    nlp = spacy.load('en_core_web_sm') # model\n",
    "  \n",
    "    doc = nlp(text) # data processing\n",
    "    ent_labels = [e.label_ for e in doc.ents]\n",
    "    freq = dict()\n",
    "    for l in ent_labels:\n",
    "        freq[l] = ent_labels.count(l)\n",
    "    return freq\n",
    "\n",
    "\n",
    "class TestStringMethods(unittest.TestCase):\n",
    "  \n",
    "    @timeout_decorator.timeout(10)\n",
    "    def test_with_oracle(self):\n",
    "\n",
    "        answer = func_to_test(text)\n",
    "        self.assertEqual(\n",
    "            answer, \n",
    "            {\n",
    "                'CARDINAL': 2, \n",
    "                'DATE': 9, \n",
    "                'GPE': 3, \n",
    "                'MONEY': 1, \n",
    "                'NORP': 2,\n",
    "                'ORDINAL': 4,\n",
    "                'ORG': 17,\n",
    "                'PERSON': 7,\n",
    "                'PRODUCT': 1,\n",
    "                'WORK_OF_ART': 1\n",
    "            }\n",
    "        )\n",
    "\n",
    "    @timeout_decorator.timeout(10)\n",
    "    def test_metamorphic(self):\n",
    "        \n",
    "        new_text = '. '.join(text[:-1].split('. ')[::-1])\n",
    "\n",
    "        freq1 = func_to_test(text)\n",
    "        freq2 = func_to_test(new_text)\n",
    "\n",
    "        self.assertEqual(freq1, freq2)\n",
    "  "
   ]
  },
  {
   "cell_type": "code",
   "execution_count": 96,
   "metadata": {},
   "outputs": [
    {
     "name": "stderr",
     "output_type": "stream",
     "text": [
      "test_metamorphic (__main__.TestStringMethods) ... ok\n",
      "test_with_oracle (__main__.TestStringMethods) ... ok\n",
      "\n",
      "----------------------------------------------------------------------\n",
      "Ran 2 tests in 1.896s\n",
      "\n",
      "OK\n"
     ]
    }
   ],
   "source": [
    "suite_list = []\n",
    "suite_list.append(unittest.TestLoader().loadTestsFromTestCase(TestStringMethods))\n",
    "runner = unittest.TextTestRunner(verbosity=2).run(unittest.TestSuite(suite_list))"
   ]
  },
  {
   "cell_type": "markdown",
   "metadata": {},
   "source": [
    "### Инвариант 3"
   ]
  },
  {
   "cell_type": "markdown",
   "metadata": {},
   "source": [
    "Утверждается, что в отличие от `PERSON` или `ORG`, теги `DATE` не должны зависеть от регистра\n",
    "\n",
    "Если в строке $S$ количество тегов `DATE` - $n$, то в строке $S.lower()$ количество тегов `DATE` тоже $n.$"
   ]
  },
  {
   "cell_type": "code",
   "execution_count": 99,
   "metadata": {},
   "outputs": [],
   "source": [
    "import unittest\n",
    "\n",
    "# function for testing\n",
    "def func_to_test(text):\n",
    "    nlp = spacy.load('en_core_web_sm') # model\n",
    "  \n",
    "    doc = nlp(text) # data processing\n",
    "    ent_labels = [e.label_ for e in doc.ents]\n",
    "    freq = dict()\n",
    "    for l in ent_labels:\n",
    "        freq[l] = ent_labels.count(l)\n",
    "    return freq['DATE']\n",
    "\n",
    "\n",
    "class TestStringMethods(unittest.TestCase):\n",
    "  \n",
    "    @timeout_decorator.timeout(10)\n",
    "    def test_with_oracle(self):\n",
    "\n",
    "        answer = func_to_test(text)\n",
    "        self.assertEqual(answer, 9)\n",
    "\n",
    "    @timeout_decorator.timeout(10)\n",
    "    def test_metamorphic(self):\n",
    "\n",
    "        freq1 = func_to_test(text)\n",
    "        freq2 = func_to_test(text.lower())\n",
    "\n",
    "        self.assertEqual(freq1, freq2)\n",
    "  "
   ]
  },
  {
   "cell_type": "code",
   "execution_count": 100,
   "metadata": {},
   "outputs": [
    {
     "name": "stderr",
     "output_type": "stream",
     "text": [
      "test_metamorphic (__main__.TestStringMethods) ... ok\n",
      "test_with_oracle (__main__.TestStringMethods) ... ok\n",
      "\n",
      "----------------------------------------------------------------------\n",
      "Ran 2 tests in 2.177s\n",
      "\n",
      "OK\n"
     ]
    }
   ],
   "source": [
    "suite_list = []\n",
    "suite_list.append(unittest.TestLoader().loadTestsFromTestCase(TestStringMethods))\n",
    "runner = unittest.TextTestRunner(verbosity=2).run(unittest.TestSuite(suite_list))"
   ]
  },
  {
   "cell_type": "code",
   "execution_count": null,
   "metadata": {},
   "outputs": [],
   "source": []
  }
 ],
 "metadata": {
  "colab": {
   "collapsed_sections": [],
   "name": "Copy of Untitled0.ipynb",
   "provenance": []
  },
  "kernelspec": {
   "display_name": "Python 3 (ipykernel)",
   "language": "python",
   "name": "python3"
  },
  "language_info": {
   "codemirror_mode": {
    "name": "ipython",
    "version": 3
   },
   "file_extension": ".py",
   "mimetype": "text/x-python",
   "name": "python",
   "nbconvert_exporter": "python",
   "pygments_lexer": "ipython3",
   "version": "3.9.2"
  }
 },
 "nbformat": 4,
 "nbformat_minor": 1
}
